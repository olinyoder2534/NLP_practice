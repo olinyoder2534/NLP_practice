{
  "nbformat": 4,
  "nbformat_minor": 0,
  "metadata": {
    "colab": {
      "provenance": [],
      "authorship_tag": "ABX9TyO+sd0Xe0dpi1oQUC1035T8",
      "include_colab_link": true
    },
    "kernelspec": {
      "name": "python3",
      "display_name": "Python 3"
    },
    "language_info": {
      "name": "python"
    }
  },
  "cells": [
    {
      "cell_type": "markdown",
      "metadata": {
        "id": "view-in-github",
        "colab_type": "text"
      },
      "source": [
        "<a href=\"https://colab.research.google.com/github/olinyoder2534/NLP_practice/blob/main/StemmingLemmatizationBasics.ipynb\" target=\"_parent\"><img src=\"https://colab.research.google.com/assets/colab-badge.svg\" alt=\"Open In Colab\"/></a>"
      ]
    },
    {
      "cell_type": "code",
      "execution_count": 51,
      "metadata": {
        "id": "zaI3WuVH7z5G"
      },
      "outputs": [],
      "source": [
        "import nltk\n",
        "import spacy"
      ]
    },
    {
      "cell_type": "code",
      "source": [
        "from nltk.stem import PorterStemmer #, snowballStemmer"
      ],
      "metadata": {
        "id": "Qg0MmptZ76HC"
      },
      "execution_count": 52,
      "outputs": []
    },
    {
      "cell_type": "code",
      "source": [
        "stemmer = PorterStemmer()"
      ],
      "metadata": {
        "id": "sy24p4sD7_My"
      },
      "execution_count": 53,
      "outputs": []
    },
    {
      "cell_type": "code",
      "source": [
        "doc = \"eating eats eat ate adjustable rafting ability meeting good great better\""
      ],
      "metadata": {
        "id": "yvj_Q2Ey9bKr"
      },
      "execution_count": 54,
      "outputs": []
    },
    {
      "cell_type": "code",
      "source": [
        "from nltk.tokenize import word_tokenize\n",
        "nltk.download('punkt')\n",
        "\n",
        "tokens = word_tokenize(doc)"
      ],
      "metadata": {
        "colab": {
          "base_uri": "https://localhost:8080/"
        },
        "id": "9z1bQ9Mt9cBr",
        "outputId": "96ecb6d5-2b73-4939-dfec-19f398080cd9"
      },
      "execution_count": 55,
      "outputs": [
        {
          "output_type": "stream",
          "name": "stderr",
          "text": [
            "[nltk_data] Downloading package punkt to /root/nltk_data...\n",
            "[nltk_data]   Package punkt is already up-to-date!\n"
          ]
        }
      ]
    },
    {
      "cell_type": "code",
      "source": [
        "words1 = [\"eating\", \"eats\", \"eat\", \"ate\", \"adjustable\", \"rafting\", \"ability\", \"meeting\"]\n",
        "\n",
        "for word in tokens:\n",
        "    print(word, \"|\", stemmer.stem(word))"
      ],
      "metadata": {
        "colab": {
          "base_uri": "https://localhost:8080/"
        },
        "id": "Pbqd6VJg8Bw4",
        "outputId": "14c1b225-a4fa-4144-a905-77c0a77fba2a"
      },
      "execution_count": 56,
      "outputs": [
        {
          "output_type": "stream",
          "name": "stdout",
          "text": [
            "eating | eat\n",
            "eats | eat\n",
            "eat | eat\n",
            "ate | ate\n",
            "adjustable | adjust\n",
            "rafting | raft\n",
            "ability | abil\n",
            "meeting | meet\n",
            "good | good\n",
            "great | great\n",
            "better | better\n"
          ]
        }
      ]
    },
    {
      "cell_type": "code",
      "source": [
        "nlp = spacy.load(\"en_core_web_sm\")"
      ],
      "metadata": {
        "id": "-tu9POMz8QxB"
      },
      "execution_count": 57,
      "outputs": []
    },
    {
      "cell_type": "code",
      "source": [
        "#doc = (\"eating eats eat ate adjustable rafting ability meeting\")"
      ],
      "metadata": {
        "id": "9FVomHi-8wl8"
      },
      "execution_count": 58,
      "outputs": []
    },
    {
      "cell_type": "code",
      "source": [
        "doc1 = nlp(doc)"
      ],
      "metadata": {
        "id": "Z8Z2xhNu-sBJ"
      },
      "execution_count": 59,
      "outputs": []
    },
    {
      "cell_type": "code",
      "source": [
        "for token in doc1:\n",
        "    print(token, \" | \", token.lemma_)"
      ],
      "metadata": {
        "colab": {
          "base_uri": "https://localhost:8080/"
        },
        "id": "t-_hR5FL88Nn",
        "outputId": "2eacbe66-482c-4285-dc5d-912d88741cb7"
      },
      "execution_count": 60,
      "outputs": [
        {
          "output_type": "stream",
          "name": "stdout",
          "text": [
            "eating  |  eat\n",
            "eats  |  eat\n",
            "eat  |  eat\n",
            "ate  |  eat\n",
            "adjustable  |  adjustable\n",
            "rafting  |  raft\n",
            "ability  |  ability\n",
            "meeting  |  meeting\n",
            "good  |  good\n",
            "great  |  great\n",
            "better  |  well\n"
          ]
        }
      ]
    },
    {
      "cell_type": "code",
      "source": [
        "nlp.pipe_names"
      ],
      "metadata": {
        "colab": {
          "base_uri": "https://localhost:8080/"
        },
        "id": "ftcVGnBh8-Yk",
        "outputId": "4244819e-a5ca-4305-902f-77ffb5cf0856"
      },
      "execution_count": 61,
      "outputs": [
        {
          "output_type": "execute_result",
          "data": {
            "text/plain": [
              "['tok2vec', 'tagger', 'parser', 'attribute_ruler', 'lemmatizer', 'ner']"
            ]
          },
          "metadata": {},
          "execution_count": 61
        }
      ]
    },
    {
      "cell_type": "code",
      "source": [
        "ar = nlp.get_pipe('attribute_ruler')"
      ],
      "metadata": {
        "id": "keUgTThJET3D"
      },
      "execution_count": 62,
      "outputs": []
    },
    {
      "cell_type": "code",
      "source": [
        "#ar.add([[\"TEXT\": \"--\"], [{\"TEXT\": \"--\"}]], {\"LEMMA\": \"---\"})"
      ],
      "metadata": {
        "collapsed": true,
        "id": "e1Z5BY8MEq2R"
      },
      "execution_count": 63,
      "outputs": []
    },
    {
      "cell_type": "code",
      "source": [
        "text = \"\"\"\n",
        "Bob, the skier from South Africa, had always dreamed of gliding down snowy slopes despite his homeland's warm climate. One day, he saved enough money to travel to the Swiss Alps, where he experienced the thrill of skiing for the first time. With each descent, his confidence grew, and he soon became a local sensation, admired for his tenacity and skill. Bob returned to South Africa with tales of his alpine adventure, inspiring many to pursue their own unlikely dreams.\n",
        "\"\"\""
      ],
      "metadata": {
        "id": "wgpRTTfcE8Nm"
      },
      "execution_count": 64,
      "outputs": []
    },
    {
      "cell_type": "code",
      "source": [
        "text = text.replace('\\n', '')"
      ],
      "metadata": {
        "id": "zAH9lidNid1G"
      },
      "execution_count": 77,
      "outputs": []
    },
    {
      "cell_type": "code",
      "source": [
        "doc2 = nlp(text)"
      ],
      "metadata": {
        "id": "6SbJTpM7evKR"
      },
      "execution_count": 78,
      "outputs": []
    },
    {
      "cell_type": "code",
      "source": [
        "doc2_tokens_lemma = []\n",
        "\n",
        "for token in doc2:\n",
        "  #print(token, '|', token.lemma_)\n",
        "  doc2_tokens_lemma.append(token.lemma_)\n",
        "\n",
        "doc2_tokens_lemma[0:6]\n",
        "stringOfWords = ' '.join(doc2_tokens_lemma)"
      ],
      "metadata": {
        "id": "PTZBD-GXe3ar"
      },
      "execution_count": 79,
      "outputs": []
    },
    {
      "cell_type": "code",
      "source": [
        "stringOfWords"
      ],
      "metadata": {
        "colab": {
          "base_uri": "https://localhost:8080/",
          "height": 70
        },
        "id": "tsdiD856fdg2",
        "outputId": "cf1c060d-d4bb-43ea-c913-8866a04dba24"
      },
      "execution_count": 80,
      "outputs": [
        {
          "output_type": "execute_result",
          "data": {
            "text/plain": [
              "\"Bob , the skier from South Africa , have always dream of glide down snowy slope despite his homeland 's warm climate . one day , he save enough money to travel to the Swiss Alps , where he experience the thrill of skiing for the first time . with each descent , his confidence grow , and he soon become a local sensation , admire for his tenacity and skill . Bob return to South Africa with tale of his alpine adventure , inspire many to pursue their own unlikely dream .\""
            ],
            "application/vnd.google.colaboratory.intrinsic+json": {
              "type": "string"
            }
          },
          "metadata": {},
          "execution_count": 80
        }
      ]
    }
  ]
}