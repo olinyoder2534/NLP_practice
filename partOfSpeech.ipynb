{
  "nbformat": 4,
  "nbformat_minor": 0,
  "metadata": {
    "colab": {
      "provenance": [],
      "authorship_tag": "ABX9TyMw1SLcItEEe96/l/luMNnE",
      "include_colab_link": true
    },
    "kernelspec": {
      "name": "python3",
      "display_name": "Python 3"
    },
    "language_info": {
      "name": "python"
    }
  },
  "cells": [
    {
      "cell_type": "markdown",
      "metadata": {
        "id": "view-in-github",
        "colab_type": "text"
      },
      "source": [
        "<a href=\"https://colab.research.google.com/github/olinyoder2534/NLP_practice/blob/main/partOfSpeech.ipynb\" target=\"_parent\"><img src=\"https://colab.research.google.com/assets/colab-badge.svg\" alt=\"Open In Colab\"/></a>"
      ]
    },
    {
      "cell_type": "code",
      "execution_count": 1,
      "metadata": {
        "id": "2ldgfeKkjzZ0"
      },
      "outputs": [],
      "source": [
        "import spacy"
      ]
    },
    {
      "cell_type": "code",
      "source": [
        "nlp = spacy.load(\"en_core_web_sm\")"
      ],
      "metadata": {
        "id": "9I5jl-28kKQg"
      },
      "execution_count": 3,
      "outputs": []
    },
    {
      "cell_type": "code",
      "source": [
        "text = 'In the heart of the bustling city, a small bookstore stood as a quiet refuge for dreamers and wanderers. One rainy afternoon, Jenny found an old, forgotten journal tucked between the shelves, its pages filled with tales of adventures that reignited her own longing for exploration.'"
      ],
      "metadata": {
        "id": "cawjy1oYkPBY"
      },
      "execution_count": 9,
      "outputs": []
    },
    {
      "cell_type": "code",
      "source": [
        "text = text.replace('\\n', '')"
      ],
      "metadata": {
        "id": "l5JcwMWek0gx"
      },
      "execution_count": 10,
      "outputs": []
    },
    {
      "cell_type": "code",
      "source": [
        "doc = nlp(text)"
      ],
      "metadata": {
        "id": "ouWZHLivk7jq"
      },
      "execution_count": 11,
      "outputs": []
    },
    {
      "cell_type": "code",
      "source": [
        "for token in doc:\n",
        "  print(token, '|', token.pos_, '|', spacy.explain(token.pos_), '|', token.tag_, '|', spacy.explain(token.tag_))"
      ],
      "metadata": {
        "colab": {
          "base_uri": "https://localhost:8080/"
        },
        "id": "aB95sX8Kk9H5",
        "outputId": "87a4ff88-d427-46f3-91e8-142c9952b326"
      },
      "execution_count": 22,
      "outputs": [
        {
          "output_type": "stream",
          "name": "stdout",
          "text": [
            "In | ADP | adposition | IN | conjunction, subordinating or preposition\n",
            "the | DET | determiner | DT | determiner\n",
            "heart | NOUN | noun | NN | noun, singular or mass\n",
            "of | ADP | adposition | IN | conjunction, subordinating or preposition\n",
            "the | DET | determiner | DT | determiner\n",
            "bustling | ADJ | adjective | JJ | adjective (English), other noun-modifier (Chinese)\n",
            "city | NOUN | noun | NN | noun, singular or mass\n",
            ", | PUNCT | punctuation | , | punctuation mark, comma\n",
            "a | DET | determiner | DT | determiner\n",
            "small | ADJ | adjective | JJ | adjective (English), other noun-modifier (Chinese)\n",
            "bookstore | NOUN | noun | NN | noun, singular or mass\n",
            "stood | VERB | verb | VBD | verb, past tense\n",
            "as | ADP | adposition | IN | conjunction, subordinating or preposition\n",
            "a | DET | determiner | DT | determiner\n",
            "quiet | ADJ | adjective | JJ | adjective (English), other noun-modifier (Chinese)\n",
            "refuge | NOUN | noun | NN | noun, singular or mass\n",
            "for | ADP | adposition | IN | conjunction, subordinating or preposition\n",
            "dreamers | NOUN | noun | NNS | noun, plural\n",
            "and | CCONJ | coordinating conjunction | CC | conjunction, coordinating\n",
            "wanderers | NOUN | noun | NNS | noun, plural\n",
            ". | PUNCT | punctuation | . | punctuation mark, sentence closer\n",
            "One | NUM | numeral | CD | cardinal number\n",
            "rainy | ADJ | adjective | JJ | adjective (English), other noun-modifier (Chinese)\n",
            "afternoon | NOUN | noun | NN | noun, singular or mass\n",
            ", | PUNCT | punctuation | , | punctuation mark, comma\n",
            "Jenny | PROPN | proper noun | NNP | noun, proper singular\n",
            "found | VERB | verb | VBD | verb, past tense\n",
            "an | DET | determiner | DT | determiner\n",
            "old | ADJ | adjective | JJ | adjective (English), other noun-modifier (Chinese)\n",
            ", | PUNCT | punctuation | , | punctuation mark, comma\n",
            "forgotten | VERB | verb | VBN | verb, past participle\n",
            "journal | NOUN | noun | NN | noun, singular or mass\n",
            "tucked | VERB | verb | VBN | verb, past participle\n",
            "between | ADP | adposition | IN | conjunction, subordinating or preposition\n",
            "the | DET | determiner | DT | determiner\n",
            "shelves | NOUN | noun | NNS | noun, plural\n",
            ", | PUNCT | punctuation | , | punctuation mark, comma\n",
            "its | PRON | pronoun | PRP$ | pronoun, possessive\n",
            "pages | NOUN | noun | NNS | noun, plural\n",
            "filled | VERB | verb | VBN | verb, past participle\n",
            "with | ADP | adposition | IN | conjunction, subordinating or preposition\n",
            "tales | NOUN | noun | NNS | noun, plural\n",
            "of | ADP | adposition | IN | conjunction, subordinating or preposition\n",
            "adventures | NOUN | noun | NNS | noun, plural\n",
            "that | PRON | pronoun | WDT | wh-determiner\n",
            "reignited | VERB | verb | VBD | verb, past tense\n",
            "her | PRON | pronoun | PRP$ | pronoun, possessive\n",
            "own | ADJ | adjective | JJ | adjective (English), other noun-modifier (Chinese)\n",
            "longing | NOUN | noun | NN | noun, singular or mass\n",
            "for | ADP | adposition | IN | conjunction, subordinating or preposition\n",
            "exploration | NOUN | noun | NN | noun, singular or mass\n",
            ". | PUNCT | punctuation | . | punctuation mark, sentence closer\n"
          ]
        }
      ]
    },
    {
      "cell_type": "code",
      "source": [
        "#all the nouns\n",
        "\n",
        "nouns = []\n",
        "propn = []\n",
        "\n",
        "for token in doc:\n",
        "  if token.pos_ == 'NOUN':\n",
        "    nouns.append(token)\n",
        "\n",
        "for token in doc:\n",
        "  if token.pos_ == 'PROPN':\n",
        "    propn.append(token)\n",
        "\n",
        "print('Nouns: ', nouns)\n",
        "print('Proper Nouns: ', propn)"
      ],
      "metadata": {
        "colab": {
          "base_uri": "https://localhost:8080/"
        },
        "id": "-Ya407LJlEkQ",
        "outputId": "33c716cb-2aa6-4721-e8b3-0ca3f7ce4d56"
      },
      "execution_count": 18,
      "outputs": [
        {
          "output_type": "stream",
          "name": "stdout",
          "text": [
            "Nouns:  [heart, city, bookstore, refuge, dreamers, wanderers, afternoon, journal, shelves, pages, tales, adventures, longing, exploration]\n",
            "Proper Nouns:  [Jenny]\n"
          ]
        }
      ]
    },
    {
      "cell_type": "code",
      "source": [
        "earnings_text=\"\"\"Microsoft Corp. today announced the following results for the quarter ended December 31, 2021, as compared to the corresponding period of last fiscal year:\n",
        "\n",
        "·         Revenue was $51.7 billion and increased 20%\n",
        "·         Operating income was $22.2 billion and increased 24%\n",
        "·         Net income was $18.8 billion and increased 21%\n",
        "·         Diluted earnings per share was $2.48 and increased 22%\n",
        "“Digital technology is the most malleable resource at the world’s disposal to overcome constraints and reimagine everyday work and life,” said Satya Nadella, chairman and chief executive officer of Microsoft. “As tech as a percentage of global GDP continues to increase, we are innovating and investing across diverse and growing markets, with a common underlying technology stack and an operating model that reinforces a common strategy, culture, and sense of purpose.”\n",
        "“Solid commercial execution, represented by strong bookings growth driven by long-term Azure commitments, increased Microsoft Cloud revenue to $22.1 billion, up 32% year over year” said Amy Hood, executive vice president and chief financial officer of Microsoft.\"\"\"\n",
        "\n",
        "doc1 = nlp(earnings_text)\n",
        "\n",
        "filtered_tokens = []\n",
        "\n",
        "for token in doc1:\n",
        "    if token.pos_ not in [\"SPACE\", \"PUNCT\", \"X\"]:\n",
        "        filtered_tokens.append(token)"
      ],
      "metadata": {
        "id": "F2ogYqyalhzf"
      },
      "execution_count": 24,
      "outputs": []
    },
    {
      "cell_type": "code",
      "source": [
        "filtered_tokens[:10]"
      ],
      "metadata": {
        "colab": {
          "base_uri": "https://localhost:8080/"
        },
        "id": "HIlplNJcn61Z",
        "outputId": "bb11a79d-b609-4248-8ef7-d0fac980e25d"
      },
      "execution_count": 26,
      "outputs": [
        {
          "output_type": "execute_result",
          "data": {
            "text/plain": [
              "[Microsoft,\n",
              " Corp.,\n",
              " today,\n",
              " announced,\n",
              " the,\n",
              " following,\n",
              " results,\n",
              " for,\n",
              " the,\n",
              " quarter]"
            ]
          },
          "metadata": {},
          "execution_count": 26
        }
      ]
    },
    {
      "cell_type": "code",
      "source": [
        "count = doc1.count_by(spacy.attrs.POS)\n",
        "for i, j in count.items():\n",
        "    print(doc.vocab[i].text, \"|\", j)"
      ],
      "metadata": {
        "colab": {
          "base_uri": "https://localhost:8080/"
        },
        "id": "4F3K952bn89p",
        "outputId": "29a04889-7303-4456-85c1-2177018b0d56"
      },
      "execution_count": 34,
      "outputs": [
        {
          "output_type": "stream",
          "name": "stdout",
          "text": [
            "PROPN | 13\n",
            "NOUN | 46\n",
            "VERB | 24\n",
            "DET | 9\n",
            "ADP | 16\n",
            "NUM | 16\n",
            "PUNCT | 27\n",
            "SCONJ | 1\n",
            "ADJ | 20\n",
            "SPACE | 10\n",
            "AUX | 6\n",
            "SYM | 5\n",
            "CCONJ | 12\n",
            "ADV | 3\n",
            "PART | 3\n",
            "PRON | 2\n"
          ]
        }
      ]
    },
    {
      "cell_type": "code",
      "source": [
        "totalTokens = 0\n",
        "\n",
        "for token in doc1:\n",
        "  totalTokens += 1\n",
        "\n",
        "totalTokens"
      ],
      "metadata": {
        "colab": {
          "base_uri": "https://localhost:8080/"
        },
        "id": "eUevO7DmonrJ",
        "outputId": "c57d3cff-89f2-4496-ad7f-dc078215962b"
      },
      "execution_count": 31,
      "outputs": [
        {
          "output_type": "execute_result",
          "data": {
            "text/plain": [
              "213"
            ]
          },
          "metadata": {},
          "execution_count": 31
        }
      ]
    },
    {
      "cell_type": "code",
      "source": [
        "with open(\"news_story.txt\",\"r\") as f:\n",
        "    news_text = f.read()\n",
        "\n",
        "news_text[:100]"
      ],
      "metadata": {
        "colab": {
          "base_uri": "https://localhost:8080/",
          "height": 35
        },
        "id": "q3dX5RPRo02E",
        "outputId": "aa15a5ea-bf01-48b4-8cf6-16dd4220e7de"
      },
      "execution_count": 37,
      "outputs": [
        {
          "output_type": "execute_result",
          "data": {
            "text/plain": [
              "'Inflation rose again in April, continuing a climb that has pushed consumers to the brink and is thre'"
            ],
            "application/vnd.google.colaboratory.intrinsic+json": {
              "type": "string"
            }
          },
          "metadata": {},
          "execution_count": 37
        }
      ]
    },
    {
      "cell_type": "code",
      "source": [
        "doc2 = nlp(news_text)"
      ],
      "metadata": {
        "id": "XyhnOH_Lquyd"
      },
      "execution_count": 39,
      "outputs": []
    },
    {
      "cell_type": "code",
      "source": [
        "nouns1 = []\n",
        "nums1 = []\n",
        "\n",
        "for token in doc2:\n",
        "  if token.pos_ == 'NOUN':\n",
        "    nouns1.append(token)\n",
        "\n",
        "for token in doc2:\n",
        "  if token.pos_ == 'NUM':\n",
        "    nums1.append(token)\n",
        "\n",
        "print('Nouns: ', nouns1)\n",
        "print('Proper Nouns: ', nums1)"
      ],
      "metadata": {
        "colab": {
          "base_uri": "https://localhost:8080/"
        },
        "id": "4FqpegYvqhyQ",
        "outputId": "0cb33298-f234-4929-fa56-10464e3bda9c"
      },
      "execution_count": 41,
      "outputs": [
        {
          "output_type": "stream",
          "name": "stdout",
          "text": [
            "Nouns:  [Inflation, climb, consumers, brink, expansion, consumer, price, index, measure, prices, goods, services, %, year, estimate, %, gain, ease, peak, level, summer, food, energy, prices, core, %, expectations, %, gain, hopes, inflation, month, month, gains, expectations, %, headline, %, estimate, %, increase, core, outlook, %, gain, price, gains, workers, ground, wages, inflation, %, month, increase, %, earnings, year, earnings, %, earnings, %, Inflation, threat, recovery, pandemic, economy, stage, year, growth, level, prices, pump, grocery, stores, problem, inflation, areas, housing, auto, sales, host, areas, officials, problem, interest, rate, hikes, year, pledges, inflation, bank, %, goal, data, job, Credits]\n",
            "Proper Nouns:  [8.3, 8.1, 1982, 6.2, 6, 0.3, 0.2, 0.6, 0.4, 0.1, 0.3, 2.6, 5.5, 2021, 1984, one, two, two, 2]\n"
          ]
        }
      ]
    },
    {
      "cell_type": "code",
      "source": [
        "nums2 = []\n",
        "\n",
        "for i, token in enumerate(doc2):\n",
        "    if token.pos_ == 'NUM':\n",
        "        if i > 0 and i < len(doc2) - 1:\n",
        "            nums2.append((doc2[i-1].text, token.text, doc2[i+1].text))\n",
        "\n",
        "print(nums2)"
      ],
      "metadata": {
        "colab": {
          "base_uri": "https://localhost:8080/"
        },
        "id": "LCgYWBnjreb4",
        "outputId": "5ec83e63-7c66-436a-91f4-b5327d9797fe"
      },
      "execution_count": 45,
      "outputs": [
        {
          "output_type": "stream",
          "name": "stdout",
          "text": [
            "[('increased', '8.3', '%'), ('an', '8.1', '%'), ('of', '1982', '.'), ('rose', '6.2', '%'), ('a', '6', '%'), ('—', '0.3', '%'), ('the', '0.2', '%'), ('a', '0.6', '%'), ('a', '0.4', '%'), ('decreased', '0.1', '%'), ('of', '0.3', '%'), ('dropped', '2.6', '%'), ('up', '5.5', '%'), ('in', '2021', 'stage'), ('since', '1984', '.'), ('been', 'one', 'problem'), ('those', 'two', 'areas'), ('with', 'two', 'interest'), ('’s', '2', '%')]\n"
          ]
        }
      ]
    },
    {
      "cell_type": "code",
      "source": [],
      "metadata": {
        "id": "byeyB0TVq0m5"
      },
      "execution_count": null,
      "outputs": []
    }
  ]
}