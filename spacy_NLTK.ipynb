{
  "nbformat": 4,
  "nbformat_minor": 0,
  "metadata": {
    "colab": {
      "provenance": [],
      "authorship_tag": "ABX9TyP5NYtOgUFC98LzmpKv7MNi",
      "include_colab_link": true
    },
    "kernelspec": {
      "name": "python3",
      "display_name": "Python 3"
    },
    "language_info": {
      "name": "python"
    }
  },
  "cells": [
    {
      "cell_type": "markdown",
      "metadata": {
        "id": "view-in-github",
        "colab_type": "text"
      },
      "source": [
        "<a href=\"https://colab.research.google.com/github/olinyoder2534/NLP_practice/blob/main/spacy_NLTK.ipynb\" target=\"_parent\"><img src=\"https://colab.research.google.com/assets/colab-badge.svg\" alt=\"Open In Colab\"/></a>"
      ]
    },
    {
      "cell_type": "markdown",
      "source": [
        "Spacy"
      ],
      "metadata": {
        "id": "SYMDYMmfN29l"
      }
    },
    {
      "cell_type": "code",
      "execution_count": 1,
      "metadata": {
        "id": "fHr0ygYiCxkv"
      },
      "outputs": [],
      "source": [
        "import spacy\n",
        "#object oriented"
      ]
    },
    {
      "cell_type": "code",
      "source": [
        "nlp = spacy.load(\"en_core_web_sm\")"
      ],
      "metadata": {
        "id": "luQI0oJMC10s"
      },
      "execution_count": 2,
      "outputs": []
    },
    {
      "cell_type": "code",
      "source": [
        "sentences = nlp(\"Mr. Jones like pancakes. Mr. Smith like waffles.\")"
      ],
      "metadata": {
        "id": "zO2gMP_oDM0q"
      },
      "execution_count": 3,
      "outputs": []
    },
    {
      "cell_type": "code",
      "source": [
        "for sentence in sentences.sents:\n",
        "  print(sentence)"
      ],
      "metadata": {
        "colab": {
          "base_uri": "https://localhost:8080/"
        },
        "id": "zXEpbFWsDurV",
        "outputId": "46c67608-49f4-4c5a-cf6b-ea070bd61d6f"
      },
      "execution_count": 4,
      "outputs": [
        {
          "output_type": "stream",
          "name": "stdout",
          "text": [
            "Mr. Jones like pancakes.\n",
            "Mr. Smith like waffles.\n"
          ]
        }
      ]
    },
    {
      "cell_type": "code",
      "source": [
        "for sentence in sentences.sents:\n",
        "  for word in sentence:\n",
        "    print(word)"
      ],
      "metadata": {
        "colab": {
          "base_uri": "https://localhost:8080/"
        },
        "id": "_55lex1yEI1g",
        "outputId": "9b7942fc-cb66-4a6b-84b2-220a6d23db8f"
      },
      "execution_count": 5,
      "outputs": [
        {
          "output_type": "stream",
          "name": "stdout",
          "text": [
            "Mr.\n",
            "Jones\n",
            "like\n",
            "pancakes\n",
            ".\n",
            "Mr.\n",
            "Smith\n",
            "like\n",
            "waffles\n",
            ".\n"
          ]
        }
      ]
    },
    {
      "cell_type": "code",
      "source": [
        "nlp1 = spacy.blank(\"en\")"
      ],
      "metadata": {
        "id": "envcw20rOAIE"
      },
      "execution_count": 6,
      "outputs": []
    },
    {
      "cell_type": "code",
      "source": [
        "document = nlp1(\"Mr. Jones like pancakes. Mr. Smith like waffles. Mrs. Jones like french toast\")"
      ],
      "metadata": {
        "id": "ocHanv9bOFjF"
      },
      "execution_count": 7,
      "outputs": []
    },
    {
      "cell_type": "code",
      "source": [
        "for token in document:\n",
        "  print(token)"
      ],
      "metadata": {
        "colab": {
          "base_uri": "https://localhost:8080/"
        },
        "id": "NUHgZc8JOivw",
        "outputId": "3f88ca96-f3b6-462b-adc6-f1ea48999312"
      },
      "execution_count": 8,
      "outputs": [
        {
          "output_type": "stream",
          "name": "stdout",
          "text": [
            "Mr.\n",
            "Jones\n",
            "like\n",
            "pancakes\n",
            ".\n",
            "Mr.\n",
            "Smith\n",
            "like\n",
            "waffles\n",
            ".\n",
            "Mrs.\n",
            "Jones\n",
            "like\n",
            "french\n",
            "toast\n"
          ]
        }
      ]
    },
    {
      "cell_type": "code",
      "source": [
        "document[:]"
      ],
      "metadata": {
        "colab": {
          "base_uri": "https://localhost:8080/"
        },
        "id": "ZcwFIeAuPTtP",
        "outputId": "d2dd1cd7-223e-4845-d9b5-5eb8bd9977d5"
      },
      "execution_count": 9,
      "outputs": [
        {
          "output_type": "execute_result",
          "data": {
            "text/plain": [
              "Mr. Jones like pancakes. Mr. Smith like waffles. Mrs. Jones like french toast"
            ]
          },
          "metadata": {},
          "execution_count": 9
        }
      ]
    },
    {
      "cell_type": "code",
      "source": [
        "document1 = nlp1(\"I'm going to go the Bob's Movie Theatre in K.C. tonight.\")\n",
        "\n",
        "for token in document1:\n",
        "  print(token)"
      ],
      "metadata": {
        "colab": {
          "base_uri": "https://localhost:8080/"
        },
        "id": "vjFl_KFgQ1_S",
        "outputId": "6e5c691e-d41e-40bb-e782-e567aeb90d4f"
      },
      "execution_count": 10,
      "outputs": [
        {
          "output_type": "stream",
          "name": "stdout",
          "text": [
            "I\n",
            "'m\n",
            "going\n",
            "to\n",
            "go\n",
            "the\n",
            "Bob\n",
            "'s\n",
            "Movie\n",
            "Theatre\n",
            "in\n",
            "K.C.\n",
            "tonight\n",
            ".\n"
          ]
        }
      ]
    },
    {
      "cell_type": "code",
      "source": [
        "#can spacy understand a wrong use of the word two?\n",
        "document2 = nlp1(\"I bought to birds for two dollars each.\")\n",
        "\n",
        "first2 = document2[2]\n",
        "print(\"Word: {} \\nType: {},\\nIsNum: {}\".format(first2, type(first2), first2.like_num))\n",
        "\n",
        "print(\"\\n\")\n",
        "\n",
        "second2 = document2[5]\n",
        "print(\"Word: {} \\nType: {},\\nIsNum: {}\".format(second2, type(second2), second2.like_num))"
      ],
      "metadata": {
        "colab": {
          "base_uri": "https://localhost:8080/"
        },
        "id": "0xEE2OgLSeBu",
        "outputId": "837bc65f-0c21-43e5-dd87-2aec35359261"
      },
      "execution_count": 11,
      "outputs": [
        {
          "output_type": "stream",
          "name": "stdout",
          "text": [
            "Word: to \n",
            "Type: <class 'spacy.tokens.token.Token'>,\n",
            "IsNum: False\n",
            "\n",
            "\n",
            "Word: two \n",
            "Type: <class 'spacy.tokens.token.Token'>,\n",
            "IsNum: True\n"
          ]
        }
      ]
    },
    {
      "cell_type": "code",
      "source": [
        "with open(\"/content/students.txt\") as f:\n",
        "  text = f.readlines()\n",
        "\n",
        "text"
      ],
      "metadata": {
        "colab": {
          "base_uri": "https://localhost:8080/"
        },
        "id": "TTg6NGppUX_5",
        "outputId": "8be3d3af-13a3-433c-8c44-9bd6e0a02a72"
      },
      "execution_count": 12,
      "outputs": [
        {
          "output_type": "execute_result",
          "data": {
            "text/plain": [
              "[\"St. Vincent St. Mary's high school, 12th grade students information\\n\",\n",
              " '==================================================\\n',\n",
              " '\\n',\n",
              " 'Name\\tbirth day   \\temail\\n',\n",
              " '-----\\t------------\\t------\\n',\n",
              " 'Bob\\t5 June, 1882    virat@smith.com\\n',\n",
              " 'Lebron  12 April, 2001  lebron@james.org\\n',\n",
              " 'Serena  24 June, 1998   serena@williams.com \\n',\n",
              " 'Joe      1 May, 1997    joe@johnson.com\\n',\n",
              " '\\n',\n",
              " '\\n',\n",
              " '\\n']"
            ]
          },
          "metadata": {},
          "execution_count": 12
        }
      ]
    },
    {
      "cell_type": "code",
      "source": [
        "text = ' '.join(text)\n",
        "text"
      ],
      "metadata": {
        "colab": {
          "base_uri": "https://localhost:8080/",
          "height": 53
        },
        "id": "Tes3wqM7VKmV",
        "outputId": "998b40bf-ba16-4551-f848-79330eaf7c56"
      },
      "execution_count": 13,
      "outputs": [
        {
          "output_type": "execute_result",
          "data": {
            "text/plain": [
              "\"St. Vincent St. Mary's high school, 12th grade students information\\n ==================================================\\n \\n Name\\tbirth day   \\temail\\n -----\\t------------\\t------\\n Bob\\t5 June, 1882    virat@smith.com\\n Lebron  12 April, 2001  lebron@james.org\\n Serena  24 June, 1998   serena@williams.com \\n Joe      1 May, 1997    joe@johnson.com\\n \\n \\n \\n\""
            ],
            "application/vnd.google.colaboratory.intrinsic+json": {
              "type": "string"
            }
          },
          "metadata": {},
          "execution_count": 13
        }
      ]
    },
    {
      "cell_type": "code",
      "source": [
        "document3 = nlp1(text)\n",
        "\n",
        "document3[:]"
      ],
      "metadata": {
        "colab": {
          "base_uri": "https://localhost:8080/"
        },
        "id": "ISAx1kFFVTYH",
        "outputId": "789ff483-f192-44a4-ab4d-df2e6693912d"
      },
      "execution_count": 14,
      "outputs": [
        {
          "output_type": "execute_result",
          "data": {
            "text/plain": [
              "St. Vincent St. Mary's high school, 12th grade students information\n",
              " ==================================================\n",
              " \n",
              " Name\tbirth day   \temail\n",
              " -----\t------------\t------\n",
              " Bob\t5 June, 1882    virat@smith.com\n",
              " Lebron  12 April, 2001  lebron@james.org\n",
              " Serena  24 June, 1998   serena@williams.com \n",
              " Joe      1 May, 1997    joe@johnson.com\n",
              " \n",
              " \n",
              " "
            ]
          },
          "metadata": {},
          "execution_count": 14
        }
      ]
    },
    {
      "cell_type": "code",
      "source": [
        "emails = []\n",
        "\n",
        "for token in document3:\n",
        "  if token.like_email:\n",
        "    emails.append(token.text)\n",
        "\n",
        "print(emails)"
      ],
      "metadata": {
        "colab": {
          "base_uri": "https://localhost:8080/"
        },
        "id": "EnsuvL7QVr4J",
        "outputId": "524f2767-179a-49b9-b294-b902644177c4"
      },
      "execution_count": 15,
      "outputs": [
        {
          "output_type": "stream",
          "name": "stdout",
          "text": [
            "['virat@smith.com', 'lebron@james.org', 'serena@williams.com', 'joe@johnson.com']\n"
          ]
        }
      ]
    },
    {
      "cell_type": "code",
      "source": [
        "from spacy.symbols import ORTH\n",
        "\n",
        "nlp1.tokenizer.add_special_case(\"\",\n",
        "                                [{ORTH: \"\"},\n",
        "                                 {ORTH: \"\"},])"
      ],
      "metadata": {
        "id": "9UZjKSE3XYQk"
      },
      "execution_count": 16,
      "outputs": []
    },
    {
      "cell_type": "code",
      "source": [
        "text1='''\n",
        "Look for data to help you address the question. Governments are good\n",
        "sources because data from public research is often freely available. Good\n",
        "places to start include http://www.data.gov/, and http://www.science.\n",
        "gov/, and in the United Kingdom, http://data.gov.uk/.\n",
        "Two of my favorite data sets are the General Social Survey at http://www3.norc.org/gss+website/,\n",
        "and the European Social Survey at http://www.europeansocialsurvey.org/.\n",
        "'''"
      ],
      "metadata": {
        "id": "THFfFTKzLD1r"
      },
      "execution_count": 21,
      "outputs": []
    },
    {
      "cell_type": "code",
      "source": [
        "document4 = nlp1(text1)\n",
        "\n",
        "document4[:]"
      ],
      "metadata": {
        "colab": {
          "base_uri": "https://localhost:8080/"
        },
        "id": "xAeEVAgdLK3S",
        "outputId": "ad20b24c-a1f8-4a93-9a4b-56df8b8d4398"
      },
      "execution_count": 22,
      "outputs": [
        {
          "output_type": "execute_result",
          "data": {
            "text/plain": [
              "\n",
              "Look for data to help you address the question. Governments are good\n",
              "sources because data from public research is often freely available. Good\n",
              "places to start include http://www.data.gov/, and http://www.science.\n",
              "gov/, and in the United Kingdom, http://data.gov.uk/.\n",
              "Two of my favorite data sets are the General Social Survey at http://www3.norc.org/gss+website/, \n",
              "and the European Social Survey at http://www.europeansocialsurvey.org/."
            ]
          },
          "metadata": {},
          "execution_count": 22
        }
      ]
    },
    {
      "cell_type": "code",
      "source": [
        "urls = []\n",
        "\n",
        "for token in document4:\n",
        "  if token.like_url:\n",
        "    urls.append(token.text)\n",
        "\n",
        "print(urls)"
      ],
      "metadata": {
        "colab": {
          "base_uri": "https://localhost:8080/"
        },
        "id": "bK_20E50LPh0",
        "outputId": "1f7e88b9-e976-419d-e7a0-d54eb4999cbe"
      },
      "execution_count": 23,
      "outputs": [
        {
          "output_type": "stream",
          "name": "stdout",
          "text": [
            "['http://www.data.gov/', 'http://www.science', 'http://data.gov.uk/.', 'http://www3.norc.org/gss+website/', 'http://www.europeansocialsurvey.org/.']\n"
          ]
        }
      ]
    },
    {
      "cell_type": "code",
      "source": [
        "transactions = \"Bob gave two $ to Peter and Dave gave 500 € to Steve\""
      ],
      "metadata": {
        "id": "1oG0FsGlLaN9"
      },
      "execution_count": 24,
      "outputs": []
    },
    {
      "cell_type": "code",
      "source": [
        "document5 = nlp1(transactions)\n",
        "\n",
        "document5[:]"
      ],
      "metadata": {
        "colab": {
          "base_uri": "https://localhost:8080/"
        },
        "id": "iedTGcstLe6b",
        "outputId": "62067bb9-c970-4889-de92-e2fcc9afdcb1"
      },
      "execution_count": 25,
      "outputs": [
        {
          "output_type": "execute_result",
          "data": {
            "text/plain": [
              "Bob gave two $ to Peter and Dave gave 500 € to Steve"
            ]
          },
          "metadata": {},
          "execution_count": 25
        }
      ]
    },
    {
      "cell_type": "code",
      "source": [
        "type(document5)"
      ],
      "metadata": {
        "colab": {
          "base_uri": "https://localhost:8080/"
        },
        "id": "FAtEF5DoNIAY",
        "outputId": "d1985bd1-4ae6-4266-88cc-b4d9b7b52d3d"
      },
      "execution_count": 27,
      "outputs": [
        {
          "output_type": "execute_result",
          "data": {
            "text/plain": [
              "spacy.tokens.doc.Doc"
            ]
          },
          "metadata": {},
          "execution_count": 27
        }
      ]
    },
    {
      "cell_type": "code",
      "source": [
        "loc = document5[:]\n",
        "type(loc)"
      ],
      "metadata": {
        "colab": {
          "base_uri": "https://localhost:8080/"
        },
        "id": "5oCneuMRPNbc",
        "outputId": "57406e61-6441-45ca-8ded-75651d2ca0c9"
      },
      "execution_count": 31,
      "outputs": [
        {
          "output_type": "execute_result",
          "data": {
            "text/plain": [
              "spacy.tokens.span.Span"
            ]
          },
          "metadata": {},
          "execution_count": 31
        }
      ]
    },
    {
      "cell_type": "code",
      "source": [
        "#nums = token.like_num\n",
        "\n",
        "amounts = []\n",
        "\n",
        "for i, token in enumerate(loc):\n",
        "    if token.is_currency:\n",
        "        if i > 0 and loc[i-1].like_num:\n",
        "            amounts.append(loc[i-1].text + token.text)\n",
        "        if i < len(loc) - 1 and loc[i+1].like_num:\n",
        "            amounts.append(token.text + loc[i+1].text)\n",
        "\n",
        "print(amounts)"
      ],
      "metadata": {
        "colab": {
          "base_uri": "https://localhost:8080/"
        },
        "id": "0lJGBpw6PX-H",
        "outputId": "bdfbf562-9272-49a7-931d-ea29f31496ca"
      },
      "execution_count": 35,
      "outputs": [
        {
          "output_type": "stream",
          "name": "stdout",
          "text": [
            "['two$', '500€']\n"
          ]
        }
      ]
    },
    {
      "cell_type": "code",
      "source": [
        "amounts = []\n",
        "\n",
        "for token in document5:\n",
        "  if token.is_currency:\n",
        "    amounts.append(token.text)\n",
        "\n",
        "print(amounts)"
      ],
      "metadata": {
        "colab": {
          "base_uri": "https://localhost:8080/"
        },
        "id": "9tgbJj1zLmW4",
        "outputId": "91b7194d-46b9-4913-b22c-7daee8209a81"
      },
      "execution_count": 26,
      "outputs": [
        {
          "output_type": "stream",
          "name": "stdout",
          "text": [
            "['$', '€']\n"
          ]
        }
      ]
    },
    {
      "cell_type": "code",
      "source": [
        "#firstlanguage - connect to API, has prebuilt NLP models"
      ],
      "metadata": {
        "id": "9N3BGy1hPGNd"
      },
      "execution_count": 17,
      "outputs": []
    },
    {
      "cell_type": "markdown",
      "source": [
        "NLTK"
      ],
      "metadata": {
        "id": "IfCxTr6YN88e"
      }
    },
    {
      "cell_type": "code",
      "source": [
        "import nltk\n",
        "nltk.download('punkt')\n",
        "#string based"
      ],
      "metadata": {
        "colab": {
          "base_uri": "https://localhost:8080/"
        },
        "id": "ChIEvWRpEX53",
        "outputId": "f81ae480-77c8-4b4b-9b6d-86df71c0e33f"
      },
      "execution_count": 18,
      "outputs": [
        {
          "output_type": "stream",
          "name": "stderr",
          "text": [
            "[nltk_data] Downloading package punkt to /root/nltk_data...\n",
            "[nltk_data]   Unzipping tokenizers/punkt.zip.\n"
          ]
        },
        {
          "output_type": "execute_result",
          "data": {
            "text/plain": [
              "True"
            ]
          },
          "metadata": {},
          "execution_count": 18
        }
      ]
    },
    {
      "cell_type": "code",
      "source": [
        "from nltk.tokenize import sent_tokenize\n",
        "\n",
        "sentences1 = \"Mr. Jones like pancakes. Mr. Smith like waffles.\"\n",
        "\n",
        "sent_tokenize(sentences1)"
      ],
      "metadata": {
        "colab": {
          "base_uri": "https://localhost:8080/"
        },
        "id": "ufutC1UOEZdH",
        "outputId": "5d03e5ce-6f24-47f8-b5af-f15c7fd01345"
      },
      "execution_count": 19,
      "outputs": [
        {
          "output_type": "execute_result",
          "data": {
            "text/plain": [
              "['Mr. Jones like pancakes.', 'Mr. Smith like waffles.']"
            ]
          },
          "metadata": {},
          "execution_count": 19
        }
      ]
    },
    {
      "cell_type": "code",
      "source": [
        "from nltk.tokenize import word_tokenize\n",
        "\n",
        "sentences1 = \"Mr. Jones like pancakes. Mr. Smith like waffles.\"\n",
        "\n",
        "word_tokenize(sentences1)"
      ],
      "metadata": {
        "colab": {
          "base_uri": "https://localhost:8080/"
        },
        "id": "sdHb-RaXFO_u",
        "outputId": "3b39a1a0-8cc2-4ba2-e649-aa9efbee2845"
      },
      "execution_count": 20,
      "outputs": [
        {
          "output_type": "execute_result",
          "data": {
            "text/plain": [
              "['Mr.',\n",
              " 'Jones',\n",
              " 'like',\n",
              " 'pancakes',\n",
              " '.',\n",
              " 'Mr.',\n",
              " 'Smith',\n",
              " 'like',\n",
              " 'waffles',\n",
              " '.']"
            ]
          },
          "metadata": {},
          "execution_count": 20
        }
      ]
    }
  ]
}