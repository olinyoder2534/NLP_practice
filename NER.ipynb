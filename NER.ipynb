{
  "nbformat": 4,
  "nbformat_minor": 0,
  "metadata": {
    "colab": {
      "provenance": [],
      "authorship_tag": "ABX9TyMaqeQb7Hv1iZ4jJ8dPdkSM",
      "include_colab_link": true
    },
    "kernelspec": {
      "name": "python3",
      "display_name": "Python 3"
    },
    "language_info": {
      "name": "python"
    }
  },
  "cells": [
    {
      "cell_type": "markdown",
      "metadata": {
        "id": "view-in-github",
        "colab_type": "text"
      },
      "source": [
        "<a href=\"https://colab.research.google.com/github/olinyoder2534/NLP_practice/blob/main/NER.ipynb\" target=\"_parent\"><img src=\"https://colab.research.google.com/assets/colab-badge.svg\" alt=\"Open In Colab\"/></a>"
      ]
    },
    {
      "cell_type": "code",
      "execution_count": 46,
      "metadata": {
        "id": "2F2L7x7wBJ_p"
      },
      "outputs": [],
      "source": [
        "import spacy"
      ]
    },
    {
      "cell_type": "code",
      "source": [
        "nlp = spacy.load(\"en_core_web_sm\")"
      ],
      "metadata": {
        "id": "E0cHvkjaKsA_"
      },
      "execution_count": 47,
      "outputs": []
    },
    {
      "cell_type": "code",
      "source": [
        "nlp.pipe_names"
      ],
      "metadata": {
        "colab": {
          "base_uri": "https://localhost:8080/"
        },
        "id": "iPFBtkUBKunA",
        "outputId": "73b348d9-5610-4c66-8f50-e726cd1da717"
      },
      "execution_count": 48,
      "outputs": [
        {
          "output_type": "execute_result",
          "data": {
            "text/plain": [
              "['tok2vec', 'tagger', 'parser', 'attribute_ruler', 'lemmatizer', 'ner']"
            ]
          },
          "metadata": {},
          "execution_count": 48
        }
      ]
    },
    {
      "cell_type": "code",
      "source": [
        "nlp.pipe_labels['ner']"
      ],
      "metadata": {
        "colab": {
          "base_uri": "https://localhost:8080/"
        },
        "id": "QjeyYdlIUM_O",
        "outputId": "28f1fd0a-7cf1-4e5a-bcc4-8f071c555321"
      },
      "execution_count": 49,
      "outputs": [
        {
          "output_type": "execute_result",
          "data": {
            "text/plain": [
              "['CARDINAL',\n",
              " 'DATE',\n",
              " 'EVENT',\n",
              " 'FAC',\n",
              " 'GPE',\n",
              " 'LANGUAGE',\n",
              " 'LAW',\n",
              " 'LOC',\n",
              " 'MONEY',\n",
              " 'NORP',\n",
              " 'ORDINAL',\n",
              " 'ORG',\n",
              " 'PERCENT',\n",
              " 'PERSON',\n",
              " 'PRODUCT',\n",
              " 'QUANTITY',\n",
              " 'TIME',\n",
              " 'WORK_OF_ART']"
            ]
          },
          "metadata": {},
          "execution_count": 49
        }
      ]
    },
    {
      "cell_type": "code",
      "source": [
        "text = 'Bob felt like crap after eating Taco Bell on Tuesday.'"
      ],
      "metadata": {
        "id": "2P_h5kLdKwl3"
      },
      "execution_count": 50,
      "outputs": []
    },
    {
      "cell_type": "code",
      "source": [
        "doc = nlp(text)"
      ],
      "metadata": {
        "id": "rHltUh7WK4V8"
      },
      "execution_count": 51,
      "outputs": []
    },
    {
      "cell_type": "code",
      "source": [
        "for ent in doc.ents:\n",
        "  print(ent.text, '|', ent.label_, '|', spacy.explain(ent.label_))"
      ],
      "metadata": {
        "colab": {
          "base_uri": "https://localhost:8080/"
        },
        "id": "CaDiB_sSK5l4",
        "outputId": "3bf4bfdd-cd9f-4b08-8c2d-a799eda2340e"
      },
      "execution_count": 52,
      "outputs": [
        {
          "output_type": "stream",
          "name": "stdout",
          "text": [
            "Bob | PERSON | People, including fictional\n",
            "Taco Bell | ORG | Companies, agencies, institutions, etc.\n",
            "Tuesday | DATE | Absolute or relative dates or periods\n"
          ]
        }
      ]
    },
    {
      "cell_type": "code",
      "source": [
        "from spacy import displacy\n",
        "\n",
        "displacy.render(doc, style = 'ent')"
      ],
      "metadata": {
        "colab": {
          "base_uri": "https://localhost:8080/",
          "height": 52
        },
        "id": "8MY50O4EK_qY",
        "outputId": "29ebe59f-545f-4b73-eb07-c9bafa9342c4"
      },
      "execution_count": 53,
      "outputs": [
        {
          "output_type": "display_data",
          "data": {
            "text/plain": [
              "<IPython.core.display.HTML object>"
            ],
            "text/html": [
              "<span class=\"tex2jax_ignore\"><div class=\"entities\" style=\"line-height: 2.5; direction: ltr\">\n",
              "<mark class=\"entity\" style=\"background: #aa9cfc; padding: 0.45em 0.6em; margin: 0 0.25em; line-height: 1; border-radius: 0.35em;\">\n",
              "    Bob\n",
              "    <span style=\"font-size: 0.8em; font-weight: bold; line-height: 1; border-radius: 0.35em; vertical-align: middle; margin-left: 0.5rem\">PERSON</span>\n",
              "</mark>\n",
              " felt like crap after eating \n",
              "<mark class=\"entity\" style=\"background: #7aecec; padding: 0.45em 0.6em; margin: 0 0.25em; line-height: 1; border-radius: 0.35em;\">\n",
              "    Taco Bell\n",
              "    <span style=\"font-size: 0.8em; font-weight: bold; line-height: 1; border-radius: 0.35em; vertical-align: middle; margin-left: 0.5rem\">ORG</span>\n",
              "</mark>\n",
              " on \n",
              "<mark class=\"entity\" style=\"background: #bfe1d9; padding: 0.45em 0.6em; margin: 0 0.25em; line-height: 1; border-radius: 0.35em;\">\n",
              "    Tuesday\n",
              "    <span style=\"font-size: 0.8em; font-weight: bold; line-height: 1; border-radius: 0.35em; vertical-align: middle; margin-left: 0.5rem\">DATE</span>\n",
              "</mark>\n",
              ".</div></span>"
            ]
          },
          "metadata": {}
        }
      ]
    },
    {
      "cell_type": "code",
      "source": [
        "text1 = 'What is Nikola Tesla founded the car company Tesla?'"
      ],
      "metadata": {
        "id": "Xx1rCV3ZLkw1"
      },
      "execution_count": 54,
      "outputs": []
    },
    {
      "cell_type": "code",
      "source": [
        "doc1 = nlp(text1)"
      ],
      "metadata": {
        "id": "U2Ha5yhoNqE0"
      },
      "execution_count": 55,
      "outputs": []
    },
    {
      "cell_type": "code",
      "source": [
        "for ent in doc1.ents:\n",
        "    print(ent.text, '|', ent.label_, '|', spacy.explain(ent.label_))"
      ],
      "metadata": {
        "colab": {
          "base_uri": "https://localhost:8080/"
        },
        "id": "nG90Wh4DNrZ3",
        "outputId": "7419962b-d1d6-49ae-d0ba-426dc75c38a8"
      },
      "execution_count": 56,
      "outputs": [
        {
          "output_type": "stream",
          "name": "stdout",
          "text": [
            "Tesla | ORG | Companies, agencies, institutions, etc.\n"
          ]
        }
      ]
    },
    {
      "cell_type": "code",
      "source": [
        "displacy.render(doc1, style = 'ent')"
      ],
      "metadata": {
        "colab": {
          "base_uri": "https://localhost:8080/",
          "height": 52
        },
        "id": "2xLqBWxXNv7d",
        "outputId": "2220e957-9e7c-4503-c792-b2818dee113b"
      },
      "execution_count": 57,
      "outputs": [
        {
          "output_type": "display_data",
          "data": {
            "text/plain": [
              "<IPython.core.display.HTML object>"
            ],
            "text/html": [
              "<span class=\"tex2jax_ignore\"><div class=\"entities\" style=\"line-height: 2.5; direction: ltr\">What is Nikola Tesla founded the car company \n",
              "<mark class=\"entity\" style=\"background: #7aecec; padding: 0.45em 0.6em; margin: 0 0.25em; line-height: 1; border-radius: 0.35em;\">\n",
              "    Tesla\n",
              "    <span style=\"font-size: 0.8em; font-weight: bold; line-height: 1; border-radius: 0.35em; vertical-align: middle; margin-left: 0.5rem\">ORG</span>\n",
              "</mark>\n",
              "?</div></span>"
            ]
          },
          "metadata": {}
        }
      ]
    },
    {
      "cell_type": "code",
      "source": [
        "for token in doc1:\n",
        "  print(token.text, '|', token.pos_)"
      ],
      "metadata": {
        "colab": {
          "base_uri": "https://localhost:8080/"
        },
        "id": "MGkqPHuPN5NV",
        "outputId": "67591374-64a0-4108-91ae-6dc92c4681fc"
      },
      "execution_count": 58,
      "outputs": [
        {
          "output_type": "stream",
          "name": "stdout",
          "text": [
            "What | PRON\n",
            "is | AUX\n",
            "Nikola | PROPN\n",
            "Tesla | PROPN\n",
            "founded | VERB\n",
            "the | DET\n",
            "car | NOUN\n",
            "company | NOUN\n",
            "Tesla | PROPN\n",
            "? | PUNCT\n"
          ]
        }
      ]
    },
    {
      "cell_type": "code",
      "source": [
        "from transformers import AutoTokenizer, AutoModelForTokenClassification\n",
        "from transformers import pipeline\n",
        "\n",
        "tokenizer = AutoTokenizer.from_pretrained(\"dslim/bert-base-NER\")\n",
        "model = AutoModelForTokenClassification.from_pretrained(\"dslim/bert-base-NER\")"
      ],
      "metadata": {
        "colab": {
          "base_uri": "https://localhost:8080/"
        },
        "id": "XdwZfmNtOBeH",
        "outputId": "f5b128ab-5207-4361-f99c-8f231e138fc1"
      },
      "execution_count": 59,
      "outputs": [
        {
          "output_type": "stream",
          "name": "stderr",
          "text": [
            "Some weights of the model checkpoint at dslim/bert-base-NER were not used when initializing BertForTokenClassification: ['bert.pooler.dense.bias', 'bert.pooler.dense.weight']\n",
            "- This IS expected if you are initializing BertForTokenClassification from the checkpoint of a model trained on another task or with another architecture (e.g. initializing a BertForSequenceClassification model from a BertForPreTraining model).\n",
            "- This IS NOT expected if you are initializing BertForTokenClassification from the checkpoint of a model that you expect to be exactly identical (initializing a BertForSequenceClassification model from a BertForSequenceClassification model).\n"
          ]
        }
      ]
    },
    {
      "cell_type": "code",
      "source": [
        "nlp1 = pipeline(\"ner\", model=model, tokenizer=tokenizer)\n",
        "example = \"What is Nikola Tesla founded the car company Tesla?\"\n",
        "\n",
        "ner_results = nlp1(example)\n",
        "print(ner_results)"
      ],
      "metadata": {
        "colab": {
          "base_uri": "https://localhost:8080/"
        },
        "id": "5yT8seQJOWPv",
        "outputId": "d1b3bda0-6dce-434b-e064-a28c022fbaff"
      },
      "execution_count": 60,
      "outputs": [
        {
          "output_type": "stream",
          "name": "stdout",
          "text": [
            "[{'entity': 'B-PER', 'score': 0.9991315, 'index': 3, 'word': 'Nikola', 'start': 8, 'end': 14}, {'entity': 'I-PER', 'score': 0.9959331, 'index': 4, 'word': 'Te', 'start': 15, 'end': 17}, {'entity': 'I-PER', 'score': 0.9948672, 'index': 5, 'word': '##sla', 'start': 17, 'end': 20}, {'entity': 'B-ORG', 'score': 0.9907079, 'index': 10, 'word': 'Te', 'start': 45, 'end': 47}, {'entity': 'I-ORG', 'score': 0.97715366, 'index': 11, 'word': '##sla', 'start': 47, 'end': 50}]\n"
          ]
        }
      ]
    },
    {
      "cell_type": "code",
      "source": [
        "for i in ner_results:\n",
        "  print(i['word'], '|', i)"
      ],
      "metadata": {
        "colab": {
          "base_uri": "https://localhost:8080/"
        },
        "id": "A7xfEjUYOgsH",
        "outputId": "31e0a8b2-7431-43f0-9399-a58c384c59a0"
      },
      "execution_count": 61,
      "outputs": [
        {
          "output_type": "stream",
          "name": "stdout",
          "text": [
            "Nikola | {'entity': 'B-PER', 'score': 0.9991315, 'index': 3, 'word': 'Nikola', 'start': 8, 'end': 14}\n",
            "Te | {'entity': 'I-PER', 'score': 0.9959331, 'index': 4, 'word': 'Te', 'start': 15, 'end': 17}\n",
            "##sla | {'entity': 'I-PER', 'score': 0.9948672, 'index': 5, 'word': '##sla', 'start': 17, 'end': 20}\n",
            "Te | {'entity': 'B-ORG', 'score': 0.9907079, 'index': 10, 'word': 'Te', 'start': 45, 'end': 47}\n",
            "##sla | {'entity': 'I-ORG', 'score': 0.97715366, 'index': 11, 'word': '##sla', 'start': 47, 'end': 50}\n"
          ]
        }
      ]
    },
    {
      "cell_type": "code",
      "source": [
        "from spacy.tokens import Span\n",
        "s1 = Span(doc1, 2, 4, label = \"PERSON\")\n",
        "\n",
        "doc1.ents = list(doc1.ents) + [s1]"
      ],
      "metadata": {
        "id": "WaZJlQFtOxqW"
      },
      "execution_count": 62,
      "outputs": []
    },
    {
      "cell_type": "code",
      "source": [
        "for ent in doc1.ents:\n",
        "    print(ent.text, '|', ent.label_, '|', spacy.explain(ent.label_))\n",
        "\n",
        "displacy.render(doc1, style = 'ent')"
      ],
      "metadata": {
        "colab": {
          "base_uri": "https://localhost:8080/",
          "height": 87
        },
        "id": "eyts-LJcQAMe",
        "outputId": "365fb7d4-1106-400b-c865-6daafd5a4833"
      },
      "execution_count": 63,
      "outputs": [
        {
          "output_type": "stream",
          "name": "stdout",
          "text": [
            "Nikola Tesla | PERSON | People, including fictional\n",
            "Tesla | ORG | Companies, agencies, institutions, etc.\n"
          ]
        },
        {
          "output_type": "display_data",
          "data": {
            "text/plain": [
              "<IPython.core.display.HTML object>"
            ],
            "text/html": [
              "<span class=\"tex2jax_ignore\"><div class=\"entities\" style=\"line-height: 2.5; direction: ltr\">What is \n",
              "<mark class=\"entity\" style=\"background: #aa9cfc; padding: 0.45em 0.6em; margin: 0 0.25em; line-height: 1; border-radius: 0.35em;\">\n",
              "    Nikola Tesla\n",
              "    <span style=\"font-size: 0.8em; font-weight: bold; line-height: 1; border-radius: 0.35em; vertical-align: middle; margin-left: 0.5rem\">PERSON</span>\n",
              "</mark>\n",
              " founded the car company \n",
              "<mark class=\"entity\" style=\"background: #7aecec; padding: 0.45em 0.6em; margin: 0 0.25em; line-height: 1; border-radius: 0.35em;\">\n",
              "    Tesla\n",
              "    <span style=\"font-size: 0.8em; font-weight: bold; line-height: 1; border-radius: 0.35em; vertical-align: middle; margin-left: 0.5rem\">ORG</span>\n",
              "</mark>\n",
              "?</div></span>"
            ]
          },
          "metadata": {}
        }
      ]
    },
    {
      "cell_type": "code",
      "source": [
        "text2 = \"\"\"Joe want to know the famous foods in each city. So, he opened Google and search for this question. Google showed that\n",
        "in Boston it is clam chowder, in Memphis it is barbeque, in Seattle it is hot dogs, in LA it is chicken fingers, in Chicago it is pizza,\n",
        "in San Francisco it is fried rice and so on for all other citites.\"\"\"\n",
        "\n",
        "doc2 = nlp(text2)"
      ],
      "metadata": {
        "id": "xmr3OLOxQCl3"
      },
      "execution_count": 64,
      "outputs": []
    },
    {
      "cell_type": "code",
      "source": [
        "countCities = 0\n",
        "cities = []\n",
        "\n",
        "for ent in doc2.ents:\n",
        "    if ent.label_ == 'GPE':\n",
        "      cities.append(ent.text)\n",
        "      countCities += 1\n",
        "\n",
        "print(cities)\n",
        "print(countCities)"
      ],
      "metadata": {
        "colab": {
          "base_uri": "https://localhost:8080/"
        },
        "id": "-RrSGoxwS4wM",
        "outputId": "7d0a43e5-205b-4029-9ef8-3c4a8fb809e0"
      },
      "execution_count": 70,
      "outputs": [
        {
          "output_type": "stream",
          "name": "stdout",
          "text": [
            "['Boston', 'Memphis', 'Seattle', 'LA', 'Chicago', 'San Francisco']\n",
            "6\n"
          ]
        }
      ]
    },
    {
      "cell_type": "code",
      "source": [
        "text3 = \"\"\"Joe was born on 24 April 1973, Albert was born on November 5, 1988, Mike was born on 4.13.48,\n",
        "and finally Ricky was born on December 3 1974.\"\"\"\n",
        "\n",
        "doc3 = nlp(text3)"
      ],
      "metadata": {
        "id": "fQf_nzmuTn1v"
      },
      "execution_count": 74,
      "outputs": []
    },
    {
      "cell_type": "code",
      "source": [
        "dates = []\n",
        "\n",
        "for ent in doc3.ents:\n",
        "    if ent.label_ == 'DATE':\n",
        "      dates.append(ent.text)\n",
        "\n",
        "print(dates)"
      ],
      "metadata": {
        "colab": {
          "base_uri": "https://localhost:8080/"
        },
        "id": "YTNt0tQQUq6o",
        "outputId": "7bf9d98d-98a2-433e-e882-3385792aab38"
      },
      "execution_count": 75,
      "outputs": [
        {
          "output_type": "stream",
          "name": "stdout",
          "text": [
            "['24 April 1973', 'November 5, 1988', '4.13.48', 'December 3 1974']\n"
          ]
        }
      ]
    }
  ]
}