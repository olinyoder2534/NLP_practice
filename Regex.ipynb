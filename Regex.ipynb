{
  "nbformat": 4,
  "nbformat_minor": 0,
  "metadata": {
    "colab": {
      "provenance": [],
      "authorship_tag": "ABX9TyPE9TMm5V9ouDd9uZMPaH2u",
      "include_colab_link": true
    },
    "kernelspec": {
      "name": "python3",
      "display_name": "Python 3"
    },
    "language_info": {
      "name": "python"
    }
  },
  "cells": [
    {
      "cell_type": "markdown",
      "metadata": {
        "id": "view-in-github",
        "colab_type": "text"
      },
      "source": [
        "<a href=\"https://colab.research.google.com/github/olinyoder2534/NLP_practice/blob/main/Regex.ipynb\" target=\"_parent\"><img src=\"https://colab.research.google.com/assets/colab-badge.svg\" alt=\"Open In Colab\"/></a>"
      ]
    },
    {
      "cell_type": "code",
      "execution_count": 3,
      "metadata": {
        "id": "b7o7H-b7yVNF"
      },
      "outputs": [],
      "source": [
        "import re"
      ]
    },
    {
      "cell_type": "markdown",
      "source": [
        "Extracting Headers"
      ],
      "metadata": {
        "id": "uWX0pFxcF7SB"
      }
    },
    {
      "cell_type": "code",
      "source": [
        "text = '''\n",
        "Overview\n",
        "We design, develop, manufacture, sell and lease high-performance fully electric vehicles and energy generation and storage systems, and offer services related to our products. We generally sell our products directly to customers, and continue to grow our customer-facing infrastructure through a global network of vehicle showrooms and service centers, Mobile Service, body shops, Supercharger stations and Destination Chargers to accelerate the widespread adoption of our products. We emphasize performance, attractive styling and the safety of our users and workforce in the design and manufacture of our products and are continuing to develop full self-driving technology for improved safety. We also strive to lower the cost of ownership for our customers through continuous efforts to reduce manufacturing costs and by offering financial and other services tailored to our products.\n",
        "Our mission is to accelerate the world’s transition to sustainable energy. We believe that this mission, along with our engineering expertise, vertically integrated business model and focus on user experience differentiate us from other companies.\n",
        "Segment Information\n",
        "We operate as two reportable segments: (i) automotive and (ii) energy generation and storage.\n",
        "The automotive segment includes the design, development, manufacturing, sales and leasing of high-performance fully electric vehicles as well as sales of automotive regulatory credits. Additionally, the automotive segment also includes services and other, which includes sales of used vehicles, non-warranty after-sales vehicle services, body shop and parts, paid Supercharging, vehicle insurance revenue and retail merchandise. The energy generation and storage segment includes the design, manufacture, installation, sales and leasing of solar energy generation and energy storage products and related services and sales of solar energy systems incentives.\n",
        "'''\n"
      ],
      "metadata": {
        "id": "WunIPSSEF5t5"
      },
      "execution_count": 4,
      "outputs": []
    },
    {
      "cell_type": "code",
      "source": [
        "pattern = '[^\\n]+'\n",
        "#pattern = r'^[A-Z][^:\\n]+'\n",
        "matches = re.findall(pattern, text)\n",
        "matches"
      ],
      "metadata": {
        "colab": {
          "base_uri": "https://localhost:8080/"
        },
        "id": "GzJ2kJyWGNZz",
        "outputId": "951e85bf-f55c-4b18-8586-dca59a3db052"
      },
      "execution_count": 5,
      "outputs": [
        {
          "output_type": "execute_result",
          "data": {
            "text/plain": [
              "['Overview',\n",
              " 'We design, develop, manufacture, sell and lease high-performance fully electric vehicles and energy generation and storage systems, and offer services related to our products. We generally sell our products directly to customers, and continue to grow our customer-facing infrastructure through a global network of vehicle showrooms and service centers, Mobile Service, body shops, Supercharger stations and Destination Chargers to accelerate the widespread adoption of our products. We emphasize performance, attractive styling and the safety of our users and workforce in the design and manufacture of our products and are continuing to develop full self-driving technology for improved safety. We also strive to lower the cost of ownership for our customers through continuous efforts to reduce manufacturing costs and by offering financial and other services tailored to our products.',\n",
              " 'Our mission is to accelerate the world’s transition to sustainable energy. We believe that this mission, along with our engineering expertise, vertically integrated business model and focus on user experience differentiate us from other companies.',\n",
              " 'Segment Information',\n",
              " 'We operate as two reportable segments: (i) automotive and (ii) energy generation and storage.',\n",
              " 'The automotive segment includes the design, development, manufacturing, sales and leasing of high-performance fully electric vehicles as well as sales of automotive regulatory credits. Additionally, the automotive segment also includes services and other, which includes sales of used vehicles, non-warranty after-sales vehicle services, body shop and parts, paid Supercharging, vehicle insurance revenue and retail merchandise. The energy generation and storage segment includes the design, manufacture, installation, sales and leasing of solar energy generation and energy storage products and related services and sales of solar energy systems incentives.']"
            ]
          },
          "metadata": {},
          "execution_count": 5
        }
      ]
    },
    {
      "cell_type": "code",
      "source": [
        "print(type(matches))"
      ],
      "metadata": {
        "colab": {
          "base_uri": "https://localhost:8080/"
        },
        "id": "o-SCdxs5GV5x",
        "outputId": "fe716762-5cab-4a93-9152-77678f53f525"
      },
      "execution_count": 6,
      "outputs": [
        {
          "output_type": "stream",
          "name": "stdout",
          "text": [
            "<class 'list'>\n"
          ]
        }
      ]
    },
    {
      "cell_type": "code",
      "source": [
        "len(matches)"
      ],
      "metadata": {
        "colab": {
          "base_uri": "https://localhost:8080/"
        },
        "id": "2c2BydrNGl5U",
        "outputId": "0761cd88-3c3a-4c75-8c02-69d7da9bf722"
      },
      "execution_count": 7,
      "outputs": [
        {
          "output_type": "execute_result",
          "data": {
            "text/plain": [
              "6"
            ]
          },
          "metadata": {},
          "execution_count": 7
        }
      ]
    },
    {
      "cell_type": "code",
      "source": [
        "headers = []\n",
        "\n",
        "for index, textString in enumerate(matches):\n",
        "    print(index, textString)\n",
        "    if len(textString) <= 20:\n",
        "        headers.append(textString)"
      ],
      "metadata": {
        "colab": {
          "base_uri": "https://localhost:8080/"
        },
        "id": "AbmLm_o3GqIm",
        "outputId": "56c33639-54c2-4037-a5e7-af637f7376a3"
      },
      "execution_count": 8,
      "outputs": [
        {
          "output_type": "stream",
          "name": "stdout",
          "text": [
            "0 Overview\n",
            "1 We design, develop, manufacture, sell and lease high-performance fully electric vehicles and energy generation and storage systems, and offer services related to our products. We generally sell our products directly to customers, and continue to grow our customer-facing infrastructure through a global network of vehicle showrooms and service centers, Mobile Service, body shops, Supercharger stations and Destination Chargers to accelerate the widespread adoption of our products. We emphasize performance, attractive styling and the safety of our users and workforce in the design and manufacture of our products and are continuing to develop full self-driving technology for improved safety. We also strive to lower the cost of ownership for our customers through continuous efforts to reduce manufacturing costs and by offering financial and other services tailored to our products.\n",
            "2 Our mission is to accelerate the world’s transition to sustainable energy. We believe that this mission, along with our engineering expertise, vertically integrated business model and focus on user experience differentiate us from other companies.\n",
            "3 Segment Information\n",
            "4 We operate as two reportable segments: (i) automotive and (ii) energy generation and storage.\n",
            "5 The automotive segment includes the design, development, manufacturing, sales and leasing of high-performance fully electric vehicles as well as sales of automotive regulatory credits. Additionally, the automotive segment also includes services and other, which includes sales of used vehicles, non-warranty after-sales vehicle services, body shop and parts, paid Supercharging, vehicle insurance revenue and retail merchandise. The energy generation and storage segment includes the design, manufacture, installation, sales and leasing of solar energy generation and energy storage products and related services and sales of solar energy systems incentives.\n"
          ]
        }
      ]
    },
    {
      "cell_type": "code",
      "source": [
        "headers"
      ],
      "metadata": {
        "colab": {
          "base_uri": "https://localhost:8080/"
        },
        "id": "PAu8uf5gG2MP",
        "outputId": "481a578b-1072-499f-838f-8e8ce5d6b2d1"
      },
      "execution_count": 9,
      "outputs": [
        {
          "output_type": "execute_result",
          "data": {
            "text/plain": [
              "['Overview', 'Segment Information']"
            ]
          },
          "metadata": {},
          "execution_count": 9
        }
      ]
    },
    {
      "cell_type": "code",
      "source": [
        "pattern1 = '^([^\\s]+(?:\\s[^\\s]+)?)$'\n",
        "matches1 = re.findall(pattern1, text, re.MULTILINE)\n",
        "print(matches1)"
      ],
      "metadata": {
        "colab": {
          "base_uri": "https://localhost:8080/"
        },
        "id": "zoUglGfSukdg",
        "outputId": "7c24463c-b949-4ff5-f41b-6d17893e44a5"
      },
      "execution_count": 10,
      "outputs": [
        {
          "output_type": "stream",
          "name": "stdout",
          "text": [
            "['Overview', 'Segment Information']\n"
          ]
        }
      ]
    },
    {
      "cell_type": "code",
      "source": [
        "len(matches1)"
      ],
      "metadata": {
        "colab": {
          "base_uri": "https://localhost:8080/"
        },
        "id": "3u81SccTKF3m",
        "outputId": "a45b526d-5726-41c1-e6fd-e67d6d6ab654"
      },
      "execution_count": 11,
      "outputs": [
        {
          "output_type": "execute_result",
          "data": {
            "text/plain": [
              "2"
            ]
          },
          "metadata": {},
          "execution_count": 11
        }
      ]
    },
    {
      "cell_type": "markdown",
      "source": [
        "Extracting Date Ranges & Values"
      ],
      "metadata": {
        "id": "cmaQT5kuxKIw"
      }
    },
    {
      "cell_type": "code",
      "source": [
        "text1 = '''\n",
        "Revenue:\n",
        "FY 2020: $100 million\n",
        "Overall a solid year, but still room to grow.\n",
        "FY 2021: $400 million\n",
        "Improvements were made. However, a company-wide change may be coming soon.\n",
        "FY 2022: $1 billion\n",
        "A new CEO was announced in January '22. Their new policies more than doubled revenue.\n",
        "FY 2023: $4.23 billion\n",
        "Another solid year.\n",
        "FY 2024 (as of CY Dec '23): $.55 billion\n",
        "A rough year so far. More than half of the company has been laid off.\n",
        "'''"
      ],
      "metadata": {
        "id": "eaPamZhJxNH3"
      },
      "execution_count": 12,
      "outputs": []
    },
    {
      "cell_type": "code",
      "source": [
        "pattern2 = '(FY \\d{4})'\n",
        "matches2 = re.findall(pattern2, text1, re.MULTILINE)\n",
        "print(matches2)"
      ],
      "metadata": {
        "colab": {
          "base_uri": "https://localhost:8080/"
        },
        "id": "O08OkSbTHgpC",
        "outputId": "d07259a1-d6b7-4099-8f5b-06e0caacac67"
      },
      "execution_count": 13,
      "outputs": [
        {
          "output_type": "stream",
          "name": "stdout",
          "text": [
            "['FY 2020', 'FY 2021', 'FY 2022', 'FY 2023', 'FY 2024']\n"
          ]
        }
      ]
    },
    {
      "cell_type": "code",
      "source": [
        "pattern3 = r'\\$(\\d*\\.?\\d+\\s*(?:million|billion)?)'\n",
        "matches3 = re.findall(pattern3, text1)\n",
        "matches3"
      ],
      "metadata": {
        "colab": {
          "base_uri": "https://localhost:8080/"
        },
        "id": "ZS3V3lUkIDxT",
        "outputId": "d7670a33-9329-4960-9280-d39109ad4538"
      },
      "execution_count": 14,
      "outputs": [
        {
          "output_type": "execute_result",
          "data": {
            "text/plain": [
              "['100 million', '400 million', '1 billion', '4.23 billion', '.55 billion']"
            ]
          },
          "metadata": {},
          "execution_count": 14
        }
      ]
    },
    {
      "cell_type": "markdown",
      "source": [
        "Phone Number"
      ],
      "metadata": {
        "id": "KQcbeHSEn-fz"
      }
    },
    {
      "cell_type": "code",
      "source": [
        "text2 = '''\n",
        "(123) 123-2344\n",
        "2342342344\n",
        "'''"
      ],
      "metadata": {
        "id": "N-lLazVwoAbF"
      },
      "execution_count": 15,
      "outputs": []
    },
    {
      "cell_type": "code",
      "source": [
        "pattern3 = '\\(\\d{3}\\)\\s*\\d{3}-\\d{4}|\\d{10}'\n",
        "matches3 = re.findall(pattern3, text2, re.MULTILINE)\n",
        "print(matches3)"
      ],
      "metadata": {
        "colab": {
          "base_uri": "https://localhost:8080/"
        },
        "id": "urCPHxOOoGAf",
        "outputId": "1303b555-8bfe-4ca5-9da9-970a865da6c0"
      },
      "execution_count": 16,
      "outputs": [
        {
          "output_type": "stream",
          "name": "stdout",
          "text": [
            "['(123) 123-2344', '2342342344']\n"
          ]
        }
      ]
    },
    {
      "cell_type": "markdown",
      "source": [
        "Email"
      ],
      "metadata": {
        "id": "7XBY5EUKr25b"
      }
    },
    {
      "cell_type": "code",
      "source": [
        "text3 = '''\n",
        "adsf@gmail.com\n",
        "age435@xyz.com\n",
        "thoit3dsg@lgtw.edu\n",
        "'''"
      ],
      "metadata": {
        "id": "JNekh83Hr35O"
      },
      "execution_count": 17,
      "outputs": []
    },
    {
      "cell_type": "code",
      "source": [
        "pattern4 = '[\\w.-]+@'\n",
        "matches4 = re.findall(pattern4, text3, re.MULTILINE)\n",
        "print(matches4)"
      ],
      "metadata": {
        "colab": {
          "base_uri": "https://localhost:8080/"
        },
        "id": "HGB54ziFr8x3",
        "outputId": "c64617c4-5b0e-4d8e-d33a-b64feb8730eb"
      },
      "execution_count": 18,
      "outputs": [
        {
          "output_type": "stream",
          "name": "stdout",
          "text": [
            "['adsf@', 'age435@', 'thoit3dsg@']\n"
          ]
        }
      ]
    },
    {
      "cell_type": "code",
      "source": [
        "pattern5 = '([\\w.-]+)@'\n",
        "matches5 = re.findall(pattern5, text3, re.MULTILINE)\n",
        "print(matches5)"
      ],
      "metadata": {
        "colab": {
          "base_uri": "https://localhost:8080/"
        },
        "id": "DsZWq-R6sDs8",
        "outputId": "0966cb39-b711-420f-9d98-4f3e1fd2b2af"
      },
      "execution_count": 19,
      "outputs": [
        {
          "output_type": "stream",
          "name": "stdout",
          "text": [
            "['adsf', 'age435', 'thoit3dsg']\n"
          ]
        }
      ]
    },
    {
      "cell_type": "code",
      "source": [
        "pattern7 = '@([\\w.-]+)'\n",
        "matches7 = re.findall(pattern7, text3, re.MULTILINE)\n",
        "print(matches7)"
      ],
      "metadata": {
        "colab": {
          "base_uri": "https://localhost:8080/"
        },
        "id": "UAVmuvOLtwzo",
        "outputId": "54011f8f-e8ea-4796-ed8a-925e6b161a49"
      },
      "execution_count": 23,
      "outputs": [
        {
          "output_type": "stream",
          "name": "stdout",
          "text": [
            "['gmail.com', 'xyz.com', 'lgtw.edu']\n"
          ]
        }
      ]
    },
    {
      "cell_type": "code",
      "source": [
        "pattern6 = '([\\w.-]+)@([\\w.-]+)'\n",
        "matches6 = re.finditer(pattern6, text3, re.MULTILINE)\n",
        "for match in matches6:\n",
        "    print(match.group(0))"
      ],
      "metadata": {
        "colab": {
          "base_uri": "https://localhost:8080/"
        },
        "id": "WdVL9newsb0n",
        "outputId": "7e79fec9-a3c3-41b4-f6b3-12ee4a9946c4"
      },
      "execution_count": 24,
      "outputs": [
        {
          "output_type": "stream",
          "name": "stdout",
          "text": [
            "adsf@gmail.com\n",
            "age435@xyz.com\n",
            "thoit3dsg@lgtw.edu\n"
          ]
        }
      ]
    }
  ]
}